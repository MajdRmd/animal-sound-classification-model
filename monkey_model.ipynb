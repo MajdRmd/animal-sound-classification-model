{
  "nbformat": 4,
  "nbformat_minor": 0,
  "metadata": {
    "colab": {
      "provenance": []
    },
    "kernelspec": {
      "name": "python3",
      "display_name": "Python 3"
    },
    "language_info": {
      "name": "python"
    }
  },
  "cells": [
    {
      "cell_type": "code",
      "execution_count": 1,
      "metadata": {
        "colab": {
          "base_uri": "https://localhost:8080/"
        },
        "id": "wU-c5C0-nay9",
        "outputId": "1920a2c9-5008-4006-ee9d-a6c0d8fc60c6"
      },
      "outputs": [
        {
          "output_type": "stream",
          "name": "stdout",
          "text": [
            "Mounted at /content/drive\n"
          ]
        }
      ],
      "source": [
        "from google.colab import drive\n",
        "drive.mount('/content/drive')"
      ]
    },
    {
      "cell_type": "code",
      "source": [
        "import os\n",
        "import numpy as np\n",
        "import tensorflow as tf\n",
        "import librosa\n",
        "from sklearn.model_selection import train_test_split\n",
        "from sklearn.utils.class_weight import compute_class_weight\n",
        "from tensorflow.keras.utils import to_categorical\n",
        "from tensorflow.keras.models import Model\n",
        "from tensorflow.keras.layers import Input, Conv2D, MaxPooling2D, Flatten, Dense, Dropout, BatchNormalization\n",
        "from tensorflow.keras.callbacks import EarlyStopping, ModelCheckpoint, ReduceLROnPlateau\n",
        "from tensorflow.keras.optimizers import Adam\n",
        "import matplotlib.pyplot as plt\n",
        "\n",
        "# Setup\n",
        "data_dir = '/content/drive/MyDrive/monkey_dataset'\n",
        "classes = sorted(os.listdir(data_dir))\n",
        "num_classes = len(classes)\n",
        "\n",
        "# Preprocessing: extract spectrograms manually (VGGish-style format)\n",
        "def extract_vggish_features(audio, sr=16000, fixed_length=96):\n",
        "    audio = librosa.resample(audio, orig_sr=sr, target_sr=16000)\n",
        "\n",
        "    spectrogram = librosa.feature.melspectrogram(y=audio, sr=16000, n_mels=64, fmax=8000)\n",
        "    log_spectrogram = librosa.power_to_db(spectrogram, ref=np.max)\n",
        "\n",
        "    if log_spectrogram.shape[1] < fixed_length:\n",
        "        pad_width = fixed_length - log_spectrogram.shape[1]\n",
        "        log_spectrogram = np.pad(log_spectrogram, ((0, 0), (0, pad_width)), mode='constant')\n",
        "    else:\n",
        "        log_spectrogram = log_spectrogram[:, :fixed_length]\n",
        "\n",
        "    log_spectrogram = np.expand_dims(log_spectrogram, axis=-1)  # (64, 96, 1)\n",
        "    log_spectrogram = np.transpose(log_spectrogram, (1, 0, 2))  # (96, 64, 1)\n",
        "    return log_spectrogram\n",
        "\n",
        "# Augmentation\n",
        "def augment_audio(audio, sr):\n",
        "    if np.random.random() < 0.5:\n",
        "        audio += 0.005 * np.random.randn(len(audio))  # Add noise\n",
        "    if np.random.random() < 0.5:\n",
        "        audio = librosa.effects.time_stretch(audio, rate=np.random.uniform(0.8, 1.2))\n",
        "    if np.random.random() < 0.5:\n",
        "        audio = librosa.effects.pitch_shift(audio, sr=sr, n_steps=np.random.randint(-2, 2))\n",
        "    return audio\n",
        "\n",
        "# Load and optionally augment data\n",
        "def load_data(data_dir, classes, augment=False):\n",
        "    data, labels = [], []\n",
        "    for i, class_name in enumerate(classes):\n",
        "        class_dir = os.path.join(data_dir, class_name)\n",
        "        if os.path.isdir(class_dir):\n",
        "            for filename in os.listdir(class_dir):\n",
        "                if filename.endswith('.wav'):\n",
        "                    file_path = os.path.join(class_dir, filename)\n",
        "                    try:\n",
        "                        audio, sr = librosa.load(file_path, sr=16000)\n",
        "                        original_feature = extract_vggish_features(audio)\n",
        "                        data.append(original_feature)\n",
        "                        labels.append(i)\n",
        "\n",
        "                        if augment:\n",
        "                            for _ in range(2):  # Add 2 augmented samples\n",
        "                                augmented_audio = augment_audio(audio, sr)\n",
        "                                augmented_feature = extract_vggish_features(augmented_audio)\n",
        "                                data.append(augmented_feature)\n",
        "                                labels.append(i)\n",
        "                    except Exception as e:\n",
        "                        print(f\"Failed on {file_path}: {e}\")\n",
        "    return np.array(data), np.array(labels)\n",
        "\n",
        "# Load dataset\n",
        "X, y = load_data(data_dir, classes, augment=True)\n",
        "\n",
        "# Split and preprocess\n",
        "X_train, X_test, y_train, y_test = train_test_split(X, y, stratify=y, test_size=0.2, random_state=42)\n",
        "y_train_cat = to_categorical(y_train, num_classes)\n",
        "y_test_cat = to_categorical(y_test, num_classes)\n",
        "\n",
        "# Compute class weights\n",
        "unique_classes = np.unique(y_train)\n",
        "class_weights = compute_class_weight('balanced', classes=unique_classes, y=y_train)\n",
        "class_weight_dict = {cls: weight for cls, weight in zip(unique_classes, class_weights)}\n",
        "\n",
        "# Custom CNN model\n",
        "input_layer = Input(shape=(96, 64, 1))\n",
        "x = Conv2D(32, (3, 3), activation='relu', padding='same')(input_layer)\n",
        "x = MaxPooling2D((2, 2))(x)\n",
        "x = BatchNormalization()(x)\n",
        "\n",
        "x = Conv2D(64, (3, 3), activation='relu', padding='same')(x)\n",
        "x = MaxPooling2D((2, 2))(x)\n",
        "x = BatchNormalization()(x)\n",
        "\n",
        "x = Conv2D(128, (3, 3), activation='relu', padding='same')(x)\n",
        "x = MaxPooling2D((2, 2))(x)\n",
        "x = BatchNormalization()(x)\n",
        "\n",
        "x = Flatten()(x)\n",
        "x = Dense(512, activation='relu')(x)\n",
        "x = Dropout(0.5)(x)\n",
        "output_layer = Dense(num_classes, activation='softmax')(x)\n",
        "\n",
        "model = Model(inputs=input_layer, outputs=output_layer)\n",
        "\n",
        "# Compile the model\n",
        "model.compile(\n",
        "    optimizer=Adam(learning_rate=0.0001),\n",
        "    loss=tf.keras.losses.CategoricalCrossentropy(label_smoothing=0.1),\n",
        "    metrics=['accuracy']\n",
        ")\n",
        "\n",
        "# Callbacks\n",
        "callbacks = [\n",
        "    EarlyStopping(monitor='val_loss', patience=10, restore_best_weights=True),\n",
        "    ModelCheckpoint('monkey_model.h5', monitor='val_accuracy', save_best_only=True, mode='max'),\n",
        "    ReduceLROnPlateau(monitor='val_loss', factor=0.5, patience=5, min_lr=1e-6, verbose=1)\n",
        "]\n",
        "\n",
        "# Train\n",
        "history = model.fit(\n",
        "    X_train, y_train_cat,\n",
        "    validation_data=(X_test, y_test_cat),\n",
        "    epochs=50,\n",
        "    batch_size=32,\n",
        "    class_weight=class_weight_dict,\n",
        "    callbacks=callbacks\n",
        ")\n",
        "\n",
        "# Plot performance\n",
        "plt.plot(history.history['accuracy'], label='train accuracy')\n",
        "plt.plot(history.history['val_accuracy'], label='val accuracy')\n",
        "plt.plot(history.history['loss'], label='train loss')\n",
        "plt.plot(history.history['val_loss'], label='val loss')\n",
        "plt.legend()\n",
        "plt.title(\"Training & Validation Metrics\")\n",
        "plt.show()\n"
      ],
      "metadata": {
        "colab": {
          "base_uri": "https://localhost:8080/",
          "height": 1000
        },
        "id": "rnpFtQVTnndr",
        "outputId": "6584866f-bf62-4422-803a-06a08de842d8"
      },
      "execution_count": 4,
      "outputs": [
        {
          "output_type": "stream",
          "name": "stdout",
          "text": [
            "Epoch 1/50\n",
            "\u001b[1m11/11\u001b[0m \u001b[32m━━━━━━━━━━━━━━━━━━━━\u001b[0m\u001b[37m\u001b[0m \u001b[1m0s\u001b[0m 560ms/step - accuracy: 0.2618 - loss: 2.6676"
          ]
        },
        {
          "output_type": "stream",
          "name": "stderr",
          "text": [
            "WARNING:absl:You are saving your model as an HDF5 file via `model.save()` or `keras.saving.save_model(model)`. This file format is considered legacy. We recommend using instead the native Keras format, e.g. `model.save('my_model.keras')` or `keras.saving.save_model(model, 'my_model.keras')`. \n"
          ]
        },
        {
          "output_type": "stream",
          "name": "stdout",
          "text": [
            "\b\b\b\b\b\b\b\b\b\b\b\b\b\b\b\b\b\b\b\b\b\b\b\b\b\b\b\b\b\b\b\b\b\b\b\b\b\b\b\b\b\b\b\b\b\b\b\b\b\b\b\b\b\b\b\b\b\b\b\b\b\b\b\b\b\b\b\b\b\b\b\b\b\b\r\u001b[1m11/11\u001b[0m \u001b[32m━━━━━━━━━━━━━━━━━━━━\u001b[0m\u001b[37m\u001b[0m \u001b[1m11s\u001b[0m 700ms/step - accuracy: 0.2708 - loss: 2.6397 - val_accuracy: 0.0000e+00 - val_loss: 7.2064 - learning_rate: 1.0000e-04\n",
            "Epoch 2/50\n",
            "\u001b[1m11/11\u001b[0m \u001b[32m━━━━━━━━━━━━━━━━━━━━\u001b[0m\u001b[37m\u001b[0m \u001b[1m0s\u001b[0m 418ms/step - accuracy: 0.7074 - loss: 1.2754"
          ]
        },
        {
          "output_type": "stream",
          "name": "stderr",
          "text": [
            "WARNING:absl:You are saving your model as an HDF5 file via `model.save()` or `keras.saving.save_model(model)`. This file format is considered legacy. We recommend using instead the native Keras format, e.g. `model.save('my_model.keras')` or `keras.saving.save_model(model, 'my_model.keras')`. \n"
          ]
        },
        {
          "output_type": "stream",
          "name": "stdout",
          "text": [
            "\b\b\b\b\b\b\b\b\b\b\b\b\b\b\b\b\b\b\b\b\b\b\b\b\b\b\b\b\b\b\b\b\b\b\b\b\b\b\b\b\b\b\b\b\b\b\b\b\b\b\b\b\b\b\b\b\b\b\b\b\b\b\b\b\b\b\b\b\b\b\b\b\b\b\r\u001b[1m11/11\u001b[0m \u001b[32m━━━━━━━━━━━━━━━━━━━━\u001b[0m\u001b[37m\u001b[0m \u001b[1m5s\u001b[0m 481ms/step - accuracy: 0.7109 - loss: 1.2674 - val_accuracy: 0.1412 - val_loss: 4.3639 - learning_rate: 1.0000e-04\n",
            "Epoch 3/50\n",
            "\u001b[1m11/11\u001b[0m \u001b[32m━━━━━━━━━━━━━━━━━━━━\u001b[0m\u001b[37m\u001b[0m \u001b[1m0s\u001b[0m 535ms/step - accuracy: 0.8560 - loss: 0.9414"
          ]
        },
        {
          "output_type": "stream",
          "name": "stderr",
          "text": [
            "WARNING:absl:You are saving your model as an HDF5 file via `model.save()` or `keras.saving.save_model(model)`. This file format is considered legacy. We recommend using instead the native Keras format, e.g. `model.save('my_model.keras')` or `keras.saving.save_model(model, 'my_model.keras')`. \n"
          ]
        },
        {
          "output_type": "stream",
          "name": "stdout",
          "text": [
            "\b\b\b\b\b\b\b\b\b\b\b\b\b\b\b\b\b\b\b\b\b\b\b\b\b\b\b\b\b\b\b\b\b\b\b\b\b\b\b\b\b\b\b\b\b\b\b\b\b\b\b\b\b\b\b\b\b\b\b\b\b\b\b\b\b\b\b\b\b\b\b\b\b\b\r\u001b[1m11/11\u001b[0m \u001b[32m━━━━━━━━━━━━━━━━━━━━\u001b[0m\u001b[37m\u001b[0m \u001b[1m12s\u001b[0m 596ms/step - accuracy: 0.8577 - loss: 0.9390 - val_accuracy: 0.1882 - val_loss: 3.2064 - learning_rate: 1.0000e-04\n",
            "Epoch 4/50\n",
            "\u001b[1m11/11\u001b[0m \u001b[32m━━━━━━━━━━━━━━━━━━━━\u001b[0m\u001b[37m\u001b[0m \u001b[1m0s\u001b[0m 472ms/step - accuracy: 0.9420 - loss: 0.7620"
          ]
        },
        {
          "output_type": "stream",
          "name": "stderr",
          "text": [
            "WARNING:absl:You are saving your model as an HDF5 file via `model.save()` or `keras.saving.save_model(model)`. This file format is considered legacy. We recommend using instead the native Keras format, e.g. `model.save('my_model.keras')` or `keras.saving.save_model(model, 'my_model.keras')`. \n"
          ]
        },
        {
          "output_type": "stream",
          "name": "stdout",
          "text": [
            "\b\b\b\b\b\b\b\b\b\b\b\b\b\b\b\b\b\b\b\b\b\b\b\b\b\b\b\b\b\b\b\b\b\b\b\b\b\b\b\b\b\b\b\b\b\b\b\b\b\b\b\b\b\b\b\b\b\b\b\b\b\b\b\b\b\b\b\b\b\b\b\b\b\b\r\u001b[1m11/11\u001b[0m \u001b[32m━━━━━━━━━━━━━━━━━━━━\u001b[0m\u001b[37m\u001b[0m \u001b[1m9s\u001b[0m 578ms/step - accuracy: 0.9407 - loss: 0.7643 - val_accuracy: 0.2941 - val_loss: 2.5466 - learning_rate: 1.0000e-04\n",
            "Epoch 5/50\n",
            "\u001b[1m11/11\u001b[0m \u001b[32m━━━━━━━━━━━━━━━━━━━━\u001b[0m\u001b[37m\u001b[0m \u001b[1m0s\u001b[0m 497ms/step - accuracy: 0.9371 - loss: 0.7408"
          ]
        },
        {
          "output_type": "stream",
          "name": "stderr",
          "text": [
            "WARNING:absl:You are saving your model as an HDF5 file via `model.save()` or `keras.saving.save_model(model)`. This file format is considered legacy. We recommend using instead the native Keras format, e.g. `model.save('my_model.keras')` or `keras.saving.save_model(model, 'my_model.keras')`. \n"
          ]
        },
        {
          "output_type": "stream",
          "name": "stdout",
          "text": [
            "\b\b\b\b\b\b\b\b\b\b\b\b\b\b\b\b\b\b\b\b\b\b\b\b\b\b\b\b\b\b\b\b\b\b\b\b\b\b\b\b\b\b\b\b\b\b\b\b\b\b\b\b\b\b\b\b\b\b\b\b\b\b\b\b\b\b\b\b\b\b\b\b\b\b\r\u001b[1m11/11\u001b[0m \u001b[32m━━━━━━━━━━━━━━━━━━━━\u001b[0m\u001b[37m\u001b[0m \u001b[1m6s\u001b[0m 559ms/step - accuracy: 0.9374 - loss: 0.7393 - val_accuracy: 0.3647 - val_loss: 1.9366 - learning_rate: 1.0000e-04\n",
            "Epoch 6/50\n",
            "\u001b[1m11/11\u001b[0m \u001b[32m━━━━━━━━━━━━━━━━━━━━\u001b[0m\u001b[37m\u001b[0m \u001b[1m0s\u001b[0m 588ms/step - accuracy: 0.9436 - loss: 0.6747"
          ]
        },
        {
          "output_type": "stream",
          "name": "stderr",
          "text": [
            "WARNING:absl:You are saving your model as an HDF5 file via `model.save()` or `keras.saving.save_model(model)`. This file format is considered legacy. We recommend using instead the native Keras format, e.g. `model.save('my_model.keras')` or `keras.saving.save_model(model, 'my_model.keras')`. \n"
          ]
        },
        {
          "output_type": "stream",
          "name": "stdout",
          "text": [
            "\b\b\b\b\b\b\b\b\b\b\b\b\b\b\b\b\b\b\b\b\b\b\b\b\b\b\b\b\b\b\b\b\b\b\b\b\b\b\b\b\b\b\b\b\b\b\b\b\b\b\b\b\b\b\b\b\b\b\b\b\b\b\b\b\b\b\b\b\b\b\b\b\b\b\r\u001b[1m11/11\u001b[0m \u001b[32m━━━━━━━━━━━━━━━━━━━━\u001b[0m\u001b[37m\u001b[0m \u001b[1m11s\u001b[0m 671ms/step - accuracy: 0.9444 - loss: 0.6749 - val_accuracy: 0.4471 - val_loss: 1.6924 - learning_rate: 1.0000e-04\n",
            "Epoch 7/50\n",
            "\u001b[1m11/11\u001b[0m \u001b[32m━━━━━━━━━━━━━━━━━━━━\u001b[0m\u001b[37m\u001b[0m \u001b[1m0s\u001b[0m 427ms/step - accuracy: 0.9784 - loss: 0.6395"
          ]
        },
        {
          "output_type": "stream",
          "name": "stderr",
          "text": [
            "WARNING:absl:You are saving your model as an HDF5 file via `model.save()` or `keras.saving.save_model(model)`. This file format is considered legacy. We recommend using instead the native Keras format, e.g. `model.save('my_model.keras')` or `keras.saving.save_model(model, 'my_model.keras')`. \n"
          ]
        },
        {
          "output_type": "stream",
          "name": "stdout",
          "text": [
            "\b\b\b\b\b\b\b\b\b\b\b\b\b\b\b\b\b\b\b\b\b\b\b\b\b\b\b\b\b\b\b\b\b\b\b\b\b\b\b\b\b\b\b\b\b\b\b\b\b\b\b\b\b\b\b\b\b\b\b\b\b\b\b\b\b\b\b\b\b\b\b\b\b\b\r\u001b[1m11/11\u001b[0m \u001b[32m━━━━━━━━━━━━━━━━━━━━\u001b[0m\u001b[37m\u001b[0m \u001b[1m8s\u001b[0m 487ms/step - accuracy: 0.9777 - loss: 0.6412 - val_accuracy: 0.5412 - val_loss: 1.5653 - learning_rate: 1.0000e-04\n",
            "Epoch 8/50\n",
            "\u001b[1m11/11\u001b[0m \u001b[32m━━━━━━━━━━━━━━━━━━━━\u001b[0m\u001b[37m\u001b[0m \u001b[1m0s\u001b[0m 427ms/step - accuracy: 0.9760 - loss: 0.6385"
          ]
        },
        {
          "output_type": "stream",
          "name": "stderr",
          "text": [
            "WARNING:absl:You are saving your model as an HDF5 file via `model.save()` or `keras.saving.save_model(model)`. This file format is considered legacy. We recommend using instead the native Keras format, e.g. `model.save('my_model.keras')` or `keras.saving.save_model(model, 'my_model.keras')`. \n"
          ]
        },
        {
          "output_type": "stream",
          "name": "stdout",
          "text": [
            "\b\b\b\b\b\b\b\b\b\b\b\b\b\b\b\b\b\b\b\b\b\b\b\b\b\b\b\b\b\b\b\b\b\b\b\b\b\b\b\b\b\b\b\b\b\b\b\b\b\b\b\b\b\b\b\b\b\b\b\b\b\b\b\b\b\b\b\b\b\b\b\b\b\b\r\u001b[1m11/11\u001b[0m \u001b[32m━━━━━━━━━━━━━━━━━━━━\u001b[0m\u001b[37m\u001b[0m \u001b[1m10s\u001b[0m 488ms/step - accuracy: 0.9760 - loss: 0.6382 - val_accuracy: 0.6000 - val_loss: 1.5003 - learning_rate: 1.0000e-04\n",
            "Epoch 9/50\n",
            "\u001b[1m11/11\u001b[0m \u001b[32m━━━━━━━━━━━━━━━━━━━━\u001b[0m\u001b[37m\u001b[0m \u001b[1m0s\u001b[0m 474ms/step - accuracy: 0.9794 - loss: 0.6342"
          ]
        },
        {
          "output_type": "stream",
          "name": "stderr",
          "text": [
            "WARNING:absl:You are saving your model as an HDF5 file via `model.save()` or `keras.saving.save_model(model)`. This file format is considered legacy. We recommend using instead the native Keras format, e.g. `model.save('my_model.keras')` or `keras.saving.save_model(model, 'my_model.keras')`. \n"
          ]
        },
        {
          "output_type": "stream",
          "name": "stdout",
          "text": [
            "\b\b\b\b\b\b\b\b\b\b\b\b\b\b\b\b\b\b\b\b\b\b\b\b\b\b\b\b\b\b\b\b\b\b\b\b\b\b\b\b\b\b\b\b\b\b\b\b\b\b\b\b\b\b\b\b\b\b\b\b\b\b\b\b\b\b\b\b\b\b\b\b\b\b\r\u001b[1m11/11\u001b[0m \u001b[32m━━━━━━━━━━━━━━━━━━━━\u001b[0m\u001b[37m\u001b[0m \u001b[1m11s\u001b[0m 532ms/step - accuracy: 0.9801 - loss: 0.6329 - val_accuracy: 0.7059 - val_loss: 1.4213 - learning_rate: 1.0000e-04\n",
            "Epoch 10/50\n",
            "\u001b[1m11/11\u001b[0m \u001b[32m━━━━━━━━━━━━━━━━━━━━\u001b[0m\u001b[37m\u001b[0m \u001b[1m0s\u001b[0m 678ms/step - accuracy: 0.9833 - loss: 0.6134"
          ]
        },
        {
          "output_type": "stream",
          "name": "stderr",
          "text": [
            "WARNING:absl:You are saving your model as an HDF5 file via `model.save()` or `keras.saving.save_model(model)`. This file format is considered legacy. We recommend using instead the native Keras format, e.g. `model.save('my_model.keras')` or `keras.saving.save_model(model, 'my_model.keras')`. \n"
          ]
        },
        {
          "output_type": "stream",
          "name": "stdout",
          "text": [
            "\b\b\b\b\b\b\b\b\b\b\b\b\b\b\b\b\b\b\b\b\b\b\b\b\b\b\b\b\b\b\b\b\b\b\b\b\b\b\b\b\b\b\b\b\b\b\b\b\b\b\b\b\b\b\b\b\b\b\b\b\b\b\b\b\b\b\b\b\b\b\b\b\b\b\r\u001b[1m11/11\u001b[0m \u001b[32m━━━━━━━━━━━━━━━━━━━━\u001b[0m\u001b[37m\u001b[0m \u001b[1m12s\u001b[0m 734ms/step - accuracy: 0.9835 - loss: 0.6127 - val_accuracy: 0.7882 - val_loss: 1.3272 - learning_rate: 1.0000e-04\n",
            "Epoch 11/50\n",
            "\u001b[1m11/11\u001b[0m \u001b[32m━━━━━━━━━━━━━━━━━━━━\u001b[0m\u001b[37m\u001b[0m \u001b[1m8s\u001b[0m 474ms/step - accuracy: 0.9919 - loss: 0.5773 - val_accuracy: 0.7882 - val_loss: 1.2571 - learning_rate: 1.0000e-04\n",
            "Epoch 12/50\n",
            "\u001b[1m11/11\u001b[0m \u001b[32m━━━━━━━━━━━━━━━━━━━━\u001b[0m\u001b[37m\u001b[0m \u001b[1m10s\u001b[0m 472ms/step - accuracy: 0.9971 - loss: 0.5659 - val_accuracy: 0.7647 - val_loss: 1.2452 - learning_rate: 1.0000e-04\n",
            "Epoch 13/50\n",
            "\u001b[1m11/11\u001b[0m \u001b[32m━━━━━━━━━━━━━━━━━━━━\u001b[0m\u001b[37m\u001b[0m \u001b[1m7s\u001b[0m 640ms/step - accuracy: 0.9973 - loss: 0.5582 - val_accuracy: 0.7412 - val_loss: 1.2261 - learning_rate: 1.0000e-04\n",
            "Epoch 14/50\n",
            "\u001b[1m11/11\u001b[0m \u001b[32m━━━━━━━━━━━━━━━━━━━━\u001b[0m\u001b[37m\u001b[0m \u001b[1m8s\u001b[0m 464ms/step - accuracy: 1.0000 - loss: 0.5616 - val_accuracy: 0.7647 - val_loss: 1.1736 - learning_rate: 1.0000e-04\n",
            "Epoch 15/50\n",
            "\u001b[1m11/11\u001b[0m \u001b[32m━━━━━━━━━━━━━━━━━━━━\u001b[0m\u001b[37m\u001b[0m \u001b[1m10s\u001b[0m 466ms/step - accuracy: 0.9901 - loss: 0.5653 - val_accuracy: 0.7882 - val_loss: 1.1185 - learning_rate: 1.0000e-04\n",
            "Epoch 16/50\n",
            "\u001b[1m11/11\u001b[0m \u001b[32m━━━━━━━━━━━━━━━━━━━━\u001b[0m\u001b[37m\u001b[0m \u001b[1m0s\u001b[0m 484ms/step - accuracy: 0.9957 - loss: 0.5516"
          ]
        },
        {
          "output_type": "stream",
          "name": "stderr",
          "text": [
            "WARNING:absl:You are saving your model as an HDF5 file via `model.save()` or `keras.saving.save_model(model)`. This file format is considered legacy. We recommend using instead the native Keras format, e.g. `model.save('my_model.keras')` or `keras.saving.save_model(model, 'my_model.keras')`. \n"
          ]
        },
        {
          "output_type": "stream",
          "name": "stdout",
          "text": [
            "\b\b\b\b\b\b\b\b\b\b\b\b\b\b\b\b\b\b\b\b\b\b\b\b\b\b\b\b\b\b\b\b\b\b\b\b\b\b\b\b\b\b\b\b\b\b\b\b\b\b\b\b\b\b\b\b\b\b\b\b\b\b\b\b\b\b\b\b\b\b\b\b\b\b\r\u001b[1m11/11\u001b[0m \u001b[32m━━━━━━━━━━━━━━━━━━━━\u001b[0m\u001b[37m\u001b[0m \u001b[1m6s\u001b[0m 592ms/step - accuracy: 0.9958 - loss: 0.5515 - val_accuracy: 0.8118 - val_loss: 1.1014 - learning_rate: 1.0000e-04\n",
            "Epoch 17/50\n",
            "\u001b[1m11/11\u001b[0m \u001b[32m━━━━━━━━━━━━━━━━━━━━\u001b[0m\u001b[37m\u001b[0m \u001b[1m0s\u001b[0m 418ms/step - accuracy: 1.0000 - loss: 0.5467"
          ]
        },
        {
          "output_type": "stream",
          "name": "stderr",
          "text": [
            "WARNING:absl:You are saving your model as an HDF5 file via `model.save()` or `keras.saving.save_model(model)`. This file format is considered legacy. We recommend using instead the native Keras format, e.g. `model.save('my_model.keras')` or `keras.saving.save_model(model, 'my_model.keras')`. \n"
          ]
        },
        {
          "output_type": "stream",
          "name": "stdout",
          "text": [
            "\b\b\b\b\b\b\b\b\b\b\b\b\b\b\b\b\b\b\b\b\b\b\b\b\b\b\b\b\b\b\b\b\b\b\b\b\b\b\b\b\b\b\b\b\b\b\b\b\b\b\b\b\b\b\b\b\b\b\b\b\b\b\b\b\b\b\b\b\b\b\b\b\b\b\r\u001b[1m11/11\u001b[0m \u001b[32m━━━━━━━━━━━━━━━━━━━━\u001b[0m\u001b[37m\u001b[0m \u001b[1m9s\u001b[0m 478ms/step - accuracy: 1.0000 - loss: 0.5470 - val_accuracy: 0.8353 - val_loss: 1.0841 - learning_rate: 1.0000e-04\n",
            "Epoch 18/50\n",
            "\u001b[1m11/11\u001b[0m \u001b[32m━━━━━━━━━━━━━━━━━━━━\u001b[0m\u001b[37m\u001b[0m \u001b[1m10s\u001b[0m 455ms/step - accuracy: 1.0000 - loss: 0.5456 - val_accuracy: 0.8353 - val_loss: 1.0582 - learning_rate: 1.0000e-04\n",
            "Epoch 19/50\n",
            "\u001b[1m11/11\u001b[0m \u001b[32m━━━━━━━━━━━━━━━━━━━━\u001b[0m\u001b[37m\u001b[0m \u001b[1m6s\u001b[0m 515ms/step - accuracy: 1.0000 - loss: 0.5472 - val_accuracy: 0.8353 - val_loss: 1.0440 - learning_rate: 1.0000e-04\n",
            "Epoch 20/50\n",
            "\u001b[1m11/11\u001b[0m \u001b[32m━━━━━━━━━━━━━━━━━━━━\u001b[0m\u001b[37m\u001b[0m \u001b[1m10s\u001b[0m 451ms/step - accuracy: 0.9961 - loss: 0.5464 - val_accuracy: 0.8235 - val_loss: 1.0109 - learning_rate: 1.0000e-04\n",
            "Epoch 21/50\n",
            "\u001b[1m11/11\u001b[0m \u001b[32m━━━━━━━━━━━━━━━━━━━━\u001b[0m\u001b[37m\u001b[0m \u001b[1m7s\u001b[0m 660ms/step - accuracy: 0.9967 - loss: 0.5463 - val_accuracy: 0.8353 - val_loss: 1.0030 - learning_rate: 1.0000e-04\n",
            "Epoch 22/50\n",
            "\u001b[1m11/11\u001b[0m \u001b[32m━━━━━━━━━━━━━━━━━━━━\u001b[0m\u001b[37m\u001b[0m \u001b[1m0s\u001b[0m 753ms/step - accuracy: 1.0000 - loss: 0.5432"
          ]
        },
        {
          "output_type": "stream",
          "name": "stderr",
          "text": [
            "WARNING:absl:You are saving your model as an HDF5 file via `model.save()` or `keras.saving.save_model(model)`. This file format is considered legacy. We recommend using instead the native Keras format, e.g. `model.save('my_model.keras')` or `keras.saving.save_model(model, 'my_model.keras')`. \n"
          ]
        },
        {
          "output_type": "stream",
          "name": "stdout",
          "text": [
            "\b\b\b\b\b\b\b\b\b\b\b\b\b\b\b\b\b\b\b\b\b\b\b\b\b\b\b\b\b\b\b\b\b\b\b\b\b\b\b\b\b\b\b\b\b\b\b\b\b\b\b\b\b\b\b\b\b\b\b\b\b\b\b\b\b\b\b\b\b\b\b\b\b\b\r\u001b[1m11/11\u001b[0m \u001b[32m━━━━━━━━━━━━━━━━━━━━\u001b[0m\u001b[37m\u001b[0m \u001b[1m13s\u001b[0m 875ms/step - accuracy: 1.0000 - loss: 0.5433 - val_accuracy: 0.8588 - val_loss: 1.0083 - learning_rate: 1.0000e-04\n",
            "Epoch 23/50\n",
            "\u001b[1m11/11\u001b[0m \u001b[32m━━━━━━━━━━━━━━━━━━━━\u001b[0m\u001b[37m\u001b[0m \u001b[1m6s\u001b[0m 497ms/step - accuracy: 0.9990 - loss: 0.5328 - val_accuracy: 0.8471 - val_loss: 1.0085 - learning_rate: 1.0000e-04\n",
            "Epoch 24/50\n",
            "\u001b[1m11/11\u001b[0m \u001b[32m━━━━━━━━━━━━━━━━━━━━\u001b[0m\u001b[37m\u001b[0m \u001b[1m12s\u001b[0m 653ms/step - accuracy: 1.0000 - loss: 0.5286 - val_accuracy: 0.8471 - val_loss: 0.9976 - learning_rate: 1.0000e-04\n",
            "Epoch 25/50\n",
            "\u001b[1m11/11\u001b[0m \u001b[32m━━━━━━━━━━━━━━━━━━━━\u001b[0m\u001b[37m\u001b[0m \u001b[1m9s\u001b[0m 516ms/step - accuracy: 0.9992 - loss: 0.5340 - val_accuracy: 0.8118 - val_loss: 0.9880 - learning_rate: 1.0000e-04\n",
            "Epoch 26/50\n",
            "\u001b[1m11/11\u001b[0m \u001b[32m━━━━━━━━━━━━━━━━━━━━\u001b[0m\u001b[37m\u001b[0m \u001b[1m10s\u001b[0m 485ms/step - accuracy: 1.0000 - loss: 0.5323 - val_accuracy: 0.8353 - val_loss: 0.9679 - learning_rate: 1.0000e-04\n",
            "Epoch 27/50\n",
            "\u001b[1m11/11\u001b[0m \u001b[32m━━━━━━━━━━━━━━━━━━━━\u001b[0m\u001b[37m\u001b[0m \u001b[1m7s\u001b[0m 659ms/step - accuracy: 1.0000 - loss: 0.5278 - val_accuracy: 0.8235 - val_loss: 0.9721 - learning_rate: 1.0000e-04\n",
            "Epoch 28/50\n",
            "\u001b[1m11/11\u001b[0m \u001b[32m━━━━━━━━━━━━━━━━━━━━\u001b[0m\u001b[37m\u001b[0m \u001b[1m5s\u001b[0m 489ms/step - accuracy: 1.0000 - loss: 0.5336 - val_accuracy: 0.8235 - val_loss: 0.9675 - learning_rate: 1.0000e-04\n",
            "Epoch 29/50\n",
            "\u001b[1m11/11\u001b[0m \u001b[32m━━━━━━━━━━━━━━━━━━━━\u001b[0m\u001b[37m\u001b[0m \u001b[1m12s\u001b[0m 589ms/step - accuracy: 1.0000 - loss: 0.5328 - val_accuracy: 0.8353 - val_loss: 0.9666 - learning_rate: 1.0000e-04\n",
            "Epoch 30/50\n",
            "\u001b[1m11/11\u001b[0m \u001b[32m━━━━━━━━━━━━━━━━━━━━\u001b[0m\u001b[37m\u001b[0m \u001b[1m5s\u001b[0m 476ms/step - accuracy: 1.0000 - loss: 0.5217 - val_accuracy: 0.8353 - val_loss: 0.9788 - learning_rate: 1.0000e-04\n",
            "Epoch 31/50\n",
            "\u001b[1m11/11\u001b[0m \u001b[32m━━━━━━━━━━━━━━━━━━━━\u001b[0m\u001b[37m\u001b[0m \u001b[1m10s\u001b[0m 482ms/step - accuracy: 1.0000 - loss: 0.5294 - val_accuracy: 0.8471 - val_loss: 0.9656 - learning_rate: 1.0000e-04\n",
            "Epoch 32/50\n",
            "\u001b[1m11/11\u001b[0m \u001b[32m━━━━━━━━━━━━━━━━━━━━\u001b[0m\u001b[37m\u001b[0m \u001b[1m11s\u001b[0m 547ms/step - accuracy: 0.9978 - loss: 0.5276 - val_accuracy: 0.8235 - val_loss: 0.9520 - learning_rate: 1.0000e-04\n",
            "Epoch 33/50\n",
            "\u001b[1m11/11\u001b[0m \u001b[32m━━━━━━━━━━━━━━━━━━━━\u001b[0m\u001b[37m\u001b[0m \u001b[1m11s\u001b[0m 675ms/step - accuracy: 1.0000 - loss: 0.5249 - val_accuracy: 0.8353 - val_loss: 0.9377 - learning_rate: 1.0000e-04\n",
            "Epoch 34/50\n",
            "\u001b[1m11/11\u001b[0m \u001b[32m━━━━━━━━━━━━━━━━━━━━\u001b[0m\u001b[37m\u001b[0m \u001b[1m8s\u001b[0m 463ms/step - accuracy: 1.0000 - loss: 0.5296 - val_accuracy: 0.8353 - val_loss: 0.9249 - learning_rate: 1.0000e-04\n",
            "Epoch 35/50\n",
            "\u001b[1m11/11\u001b[0m \u001b[32m━━━━━━━━━━━━━━━━━━━━\u001b[0m\u001b[37m\u001b[0m \u001b[1m7s\u001b[0m 654ms/step - accuracy: 1.0000 - loss: 0.5240 - val_accuracy: 0.8588 - val_loss: 0.9290 - learning_rate: 1.0000e-04\n",
            "Epoch 36/50\n",
            "\u001b[1m11/11\u001b[0m \u001b[32m━━━━━━━━━━━━━━━━━━━━\u001b[0m\u001b[37m\u001b[0m \u001b[1m5s\u001b[0m 476ms/step - accuracy: 0.9978 - loss: 0.5294 - val_accuracy: 0.8353 - val_loss: 0.9231 - learning_rate: 1.0000e-04\n",
            "Epoch 37/50\n",
            "\u001b[1m11/11\u001b[0m \u001b[32m━━━━━━━━━━━━━━━━━━━━\u001b[0m\u001b[37m\u001b[0m \u001b[1m12s\u001b[0m 581ms/step - accuracy: 1.0000 - loss: 0.5365 - val_accuracy: 0.8235 - val_loss: 0.9420 - learning_rate: 1.0000e-04\n",
            "Epoch 38/50\n",
            "\u001b[1m11/11\u001b[0m \u001b[32m━━━━━━━━━━━━━━━━━━━━\u001b[0m\u001b[37m\u001b[0m \u001b[1m10s\u001b[0m 610ms/step - accuracy: 1.0000 - loss: 0.5220 - val_accuracy: 0.8588 - val_loss: 0.9296 - learning_rate: 1.0000e-04\n",
            "Epoch 39/50\n",
            "\u001b[1m11/11\u001b[0m \u001b[32m━━━━━━━━━━━━━━━━━━━━\u001b[0m\u001b[37m\u001b[0m \u001b[1m6s\u001b[0m 480ms/step - accuracy: 1.0000 - loss: 0.5246 - val_accuracy: 0.8471 - val_loss: 0.9343 - learning_rate: 1.0000e-04\n",
            "Epoch 40/50\n",
            "\u001b[1m11/11\u001b[0m \u001b[32m━━━━━━━━━━━━━━━━━━━━\u001b[0m\u001b[37m\u001b[0m \u001b[1m12s\u001b[0m 668ms/step - accuracy: 1.0000 - loss: 0.5179 - val_accuracy: 0.8235 - val_loss: 0.9514 - learning_rate: 1.0000e-04\n",
            "Epoch 41/50\n",
            "\u001b[1m11/11\u001b[0m \u001b[32m━━━━━━━━━━━━━━━━━━━━\u001b[0m\u001b[37m\u001b[0m \u001b[1m0s\u001b[0m 433ms/step - accuracy: 1.0000 - loss: 0.5225\n",
            "Epoch 41: ReduceLROnPlateau reducing learning rate to 4.999999873689376e-05.\n",
            "\u001b[1m11/11\u001b[0m \u001b[32m━━━━━━━━━━━━━━━━━━━━\u001b[0m\u001b[37m\u001b[0m \u001b[1m8s\u001b[0m 467ms/step - accuracy: 1.0000 - loss: 0.5226 - val_accuracy: 0.8353 - val_loss: 0.9459 - learning_rate: 1.0000e-04\n",
            "Epoch 42/50\n",
            "\u001b[1m11/11\u001b[0m \u001b[32m━━━━━━━━━━━━━━━━━━━━\u001b[0m\u001b[37m\u001b[0m \u001b[1m10s\u001b[0m 476ms/step - accuracy: 1.0000 - loss: 0.5221 - val_accuracy: 0.8471 - val_loss: 0.9349 - learning_rate: 5.0000e-05\n",
            "Epoch 43/50\n",
            "\u001b[1m11/11\u001b[0m \u001b[32m━━━━━━━━━━━━━━━━━━━━\u001b[0m\u001b[37m\u001b[0m \u001b[1m10s\u001b[0m 478ms/step - accuracy: 1.0000 - loss: 0.5195 - val_accuracy: 0.8353 - val_loss: 0.9454 - learning_rate: 5.0000e-05\n",
            "Epoch 44/50\n",
            "\u001b[1m11/11\u001b[0m \u001b[32m━━━━━━━━━━━━━━━━━━━━\u001b[0m\u001b[37m\u001b[0m \u001b[1m12s\u001b[0m 592ms/step - accuracy: 1.0000 - loss: 0.5194 - val_accuracy: 0.8118 - val_loss: 0.9390 - learning_rate: 5.0000e-05\n",
            "Epoch 45/50\n",
            "\u001b[1m11/11\u001b[0m \u001b[32m━━━━━━━━━━━━━━━━━━━━\u001b[0m\u001b[37m\u001b[0m \u001b[1m10s\u001b[0m 583ms/step - accuracy: 1.0000 - loss: 0.5199 - val_accuracy: 0.8118 - val_loss: 0.9240 - learning_rate: 5.0000e-05\n",
            "Epoch 46/50\n",
            "\u001b[1m11/11\u001b[0m \u001b[32m━━━━━━━━━━━━━━━━━━━━\u001b[0m\u001b[37m\u001b[0m \u001b[1m0s\u001b[0m 438ms/step - accuracy: 1.0000 - loss: 0.5135\n",
            "Epoch 46: ReduceLROnPlateau reducing learning rate to 2.499999936844688e-05.\n",
            "\u001b[1m11/11\u001b[0m \u001b[32m━━━━━━━━━━━━━━━━━━━━\u001b[0m\u001b[37m\u001b[0m \u001b[1m9s\u001b[0m 474ms/step - accuracy: 1.0000 - loss: 0.5136 - val_accuracy: 0.8471 - val_loss: 0.9293 - learning_rate: 5.0000e-05\n"
          ]
        },
        {
          "output_type": "display_data",
          "data": {
            "text/plain": [
              "<Figure size 640x480 with 1 Axes>"
            ],
            "image/png": "[encoded data removed]"
          },
          "metadata": {}
        }
      ]
    }
  ]
}